{
  "nbformat": 4,
  "nbformat_minor": 0,
  "metadata": {
    "colab": {
      "provenance": []
    },
    "kernelspec": {
      "name": "python3",
      "display_name": "Python 3"
    },
    "language_info": {
      "name": "python"
    }
  },
  "cells": [
    {
      "cell_type": "markdown",
      "source": [
        "                                                       **Python OOPs Question**"
      ],
      "metadata": {
        "id": "OuwIOFy2Kk8m"
      }
    },
    {
      "cell_type": "markdown",
      "source": [
        "1. What is object-oriented programming (OOP)?\n",
        "\n",
        " - Object-Oriented Programming (OOP) is a programming paradigm that uses \"objects\" to design computer programs. These objects contain data (attributes) and methods (functions) that operate on that data. OOP aims to model real-world entities and their interactions, promoting modularity, reusability, and easier maintenance of code, especially in large-scale projects.\n",
        "\n",
        "\n",
        "\n",
        "2. What is a class in OOP?\n",
        "\n",
        "  - A class is a collection of objects. Classes are blueprints for creating objects. A class defines a set of attributes and methods that the created objects (instances) can have.\n",
        "\n",
        "     Some points on Python class:  \n",
        "\n",
        "     Classes are created by keyword class.\n",
        "\n",
        "     Attributes are the variables that belong to a class.\n",
        "\n",
        "     Attributes are always public and can be accessed using the dot (.) operator. Example: Myclass.Myattribute\n",
        "\n",
        "\n",
        "\n",
        "3. What is an object in OOP?\n",
        "\n",
        "  - As the name suggests, Object-Oriented Programming or OOPs refers to languages that use objects in programming. Object-oriented programming aims to implement real-world entities like inheritance, hiding, polymorphism, etc in programming. The main aim of OOP is to bind together the data and the functions that operate on them so that no other part of the code can access this data except that function.\n",
        "\n",
        "    OOPs Concepts:\n",
        "\n",
        "   - Class Objects\n",
        "\n",
        "   - Data Abstraction\n",
        "\n",
        "   - Encapsulation\n",
        "\n",
        "   - Inheritance\n",
        "\n",
        "   - Polymorphism\n",
        "\n",
        "   - Dynamic Binding\n",
        "\n",
        "   - Message Passing\n",
        "\n",
        "4. What is the difference between abstraction and encapsulation?\n",
        "\n",
        "  - Abstraction is a process of hiding the implementation details of a system   from the user, and only the functional details will be available to the user end. On the other hand, Encapsulation is a method of wrapping up the data and code acting on the data into a single unit.\n",
        "\n",
        "    Abstraction is defined as a process of hiding the implementation details of a system from the user. Thus, by using abstraction, we provided only the functionality of the system to the user. Consequently, the user will have information on what the system does, but not on how the system does it.\n",
        "\n",
        "    Encapsulation is one of the fundamental OOP concepts. Encapsulation is defined as a method by which data wrapping is done into a single unit. It is used in wrapping up the data and the code acting on the data together as a single unit.In encapsulation, the variables of a class are hidden from other classes, and can be accessed only by methods of the current class. Therefore, encapsulation is also called data hiding. Encapsulation is implemented using access modifiers like public, private and protected.\n",
        "\n",
        "5. What are dunder methods in Python?\n",
        "\n",
        "   - Python Magic methods are the methods starting and ending with double underscores '__'. They are defined by built-in classes in Python and commonly used for operator overloading.\n",
        "\n",
        "    They are also called Dunder methods, Dunder here means \"Double Under (Underscores)\".\n",
        "\n",
        "    Python Magic Methods Built in classes define many magic methods, dir() function can show you magic methods inherited by a class.\n",
        "\n",
        "6. Explain the concept of inheritance in OOP?\n",
        "\n",
        "   - Inheritance in Object-Oriented Programming (OOP) is a fundamental concept that allows a new class (the subclass, derived class, or child class) to inherit properties (attributes) and behaviors (methods) from an existing class (the superclass, base class, or parent class).\n",
        "\n",
        "7. What is polymorphism in OOP?\n",
        "\n",
        " -  Polymorphism in OOPs is one of the four important principles of    object-oriented programming (OOP), which allows objects of different classes, objects, variables and methods to exist in different forms. With the help of polymorphism in oops, it is easy to represent one single form into various forms.\n",
        "\n",
        "    There are two main types of polymorphism in object-oriented programming. These are compile-time polymorphism and Run-time polymorphism. Polymorphism allows flexibility and increases efficiency while designing software systems. We can add new classes easily with the help of polymorphism without modifying existing entities.\n",
        "\n",
        "8. How is encapsulation achieved in Python?\n",
        "\n",
        " - In Python, encapsulation refers to the bundling of data (attributes) and methods (functions) that operate on the data into a single unit, typically a class. It also restricts direct access to some components, which helps protect the integrity of the data and ensures proper usage.\n",
        "\n",
        "    Encapsulation is the process of hiding the internal state of an object and requiring all interactions to be performed through an object's methods.\n",
        "\n",
        "    Python achieves encapsulation through public, protected and private attributes.\n",
        "\n",
        "\n",
        "9. What is a constructor in Python?\n",
        "\n",
        " - In Python, a constructor is a special method that is called automatically when an object is created from a class. Its main role is to initialize the object by setting up its attributes or state.\n",
        "\n",
        "    The method __new__ is the constructor that creates a new instance of the class while __init__ is the initializer that sets up the instance's attributes after creation. These methods work together to manage object creation and initialization.\n",
        "\n",
        "10. What are class and static methods in Python?\n",
        "\n",
        "  - Class method - The @classmethod decorator is a built-in function decorator that is an expression that gets evaluated after your function is defined. The result of that evaluation shadows your function definition. A class method receives the class as an implicit first argument, just like an instance method receives the instance\n",
        "\n",
        "     Static method - A static method does not receive an implicit first argument. A static method is also a method that is bound to the class and not the object of the class. This method can't access or modify the class state. It is present in a class because it makes sense for the method to be present in class.\n",
        "\n",
        "11. What is method overloading in Python?\n",
        "\n",
        "  - Method overloading in Python refers to the concept where a single method name can be used to perform different operations based on the number or type of arguments passed to it. Unlike some other object-oriented programming languages like Java or C++, Python does not support true method overloading where you define multiple methods with the same name but different parameter lists.\n",
        "    Instead, Python achieves a similar effect through alternative mechanisms:\n",
        "    Default Arguments: Assigning default values to parameters allows a method to be called with a varying number of arguments. If an argument is not provided during the call, its default value is used.\n",
        "\n",
        "\n",
        "12. What is method overriding in OOP?\n",
        "\n",
        "  - Method overriding in object-oriented programming (OOP) is a feature that allows a subclass to provide a specific implementation of a method that is already defined in its parent class. This allows the subclass to customize or extend the behavior of the inherited method while maintaining the same method signature (name and parameters).\n",
        "\n",
        "\n",
        "13. What is a property decorator in Python?\n",
        "\n",
        " - The @property decorator in Python is a built-in decorator used to define managed attributes within a class. It allows a method to be accessed and manipulated as if it were a regular attribute, while internally executing specific getter, setter, or deleter methods. This provides a clean and Pythonic way to control access to class attributes, enforce validation, or perform computations when an attribute is accessed, modified, or deleted.\n",
        "\n",
        "\n",
        "14. Why is polymorphism important in OOP?\n",
        "\n",
        " - Polymorphism is crucial in object-oriented programming (OOP) because it enables code flexibility, reusability, and maintainability. It allows objects of different types to be treated as objects of a common type, facilitating the creation of more adaptable and extensible software systems. Polymorphism enhances code organization, reduces redundancy, and simplifies the addition of new functionalities.\n",
        "\n",
        "\n",
        "15. What is an abstract class in Python?\n",
        "\n",
        "  - In Python, an abstract class is a class that cannot be instantiated on its own and is designed to be a blueprint for other classes. Abstract classes allow us to define methods that must be implemented by subclasses, ensuring a consistent interface while still allowing the subclasses to provide specific implementations.\n",
        "\n",
        "     __Abstract Base Classes in Python__\n",
        "\n",
        "     It defines methods that must be implemented by its subclasses, ensuring that the subclasses follow a consistent structure. ABCs allow you to define common interfaces that various subclasses can implement while enforcing a level of abstraction.\n",
        "\n",
        "     Python provides the abc module to define ABCs and enforce the implementation of abstract methods in subclasses.\n",
        "\n",
        "\n",
        "16. What are the advantages of OOP?\n",
        "\n",
        "  - Object-Oriented Programming (OOP) offers several advantages, including improved code organization, reusability, flexibility, and easier maintenance. OOP promotes modularity, allowing developers to break down complex problems into smaller, manageable objects. This modularity, combined with features like inheritance and polymorphism, leads to more efficient development, reduced redundancy, and simpler debugging.\n",
        "\n",
        "\n",
        "17. What is the difference between a class variable and an instance variable?\n",
        "\n",
        "  - Class Variable:  It is basically a static variable that can be declared   anywhere at class level with static. Across different objects, these variables can have only one value. These variables are not tied to any particular object of the class, therefore, can share across all objects of the class.\n",
        "\n",
        "     Instance Variable:  It is basically a class variable without a static modifier and is usually shared by all class instances. Across different objects, these variables can have different values. They are tied to a particular object instance of the class, therefore, the contents of an instance variable are totally independent of one object instance to others.\n",
        "\n",
        "\n",
        "18. What is multiple inheritance in Python?\n",
        "\n",
        "  - Multiple inheritance in Python is a feature where a class can inherit attributes and methods from more than one parent class. This allows a single class to combine functionalities and characteristics from multiple distinct sources, promoting code reuse and potentially creating more complex and specialized objects.\n",
        "Key aspects of multiple inheritance:\n",
        "Inheriting from multiple parents: A child class (derived class) lists all its parent classes (base classes) in its definition\n",
        "\n",
        "19. Explain the purpose of \"__str__\" and \"__repr__\" methods in Python?\n",
        "\n",
        "  - The __str__ and __repr__ methods in Python are special methods (also known  as \"dunder methods\" for their double underscores) that define how an object is represented as a string. They serve different purposes and are aimed at different audiences:\n",
        "     __str__ (for users):\n",
        "     This method is intended to return a \"user-friendly\" or \"readable\" string representation of an object.\n",
        "     It is called implicitly by functions like print(), str(), and format() when an object needs to be converted to a string for display to a human user.\n",
        "     The output should be concise and easily understandable, potentially omitting some internal details for clarity.\n",
        "     __repr__ (for developers/debugging):\n",
        "     This method is intended to return an \"unambiguous\" or \"developer-friendly\" string representation of an object.\n",
        "     It is called when an object is inspected in the interactive interpreter, by the repr() function, or as a fallback when __str__ is not defined for a class.\n",
        "     The output should ideally be a string that, if passed to eval(), would recreate the object, or at least provide enough information to unambiguously identify the object's state for debugging purposes.\n",
        "\n",
        "20. What is the significance of the \"super()\" function in Python?\n",
        "\n",
        "  - In Python, the super() function is used to refer to the parent class or superclass. It allows you to call methods defined in the superclass from the subclass, enabling you to extend and customize the functionality inherited\n",
        "  from the parent class.\n",
        "\n",
        "     super() function in Python Example\n",
        "\n",
        "     In the given example, The Emp class has an __init__ method that initializes the id, and name and Adds attributes. The Freelance class inherits from the Emp class and adds an additional attribute called Emails. It calls the parent class's __init__ method super() to initialize the inherited attribute.\n",
        "\n",
        "21. What is the significance of the __del__ method in Python?\n",
        "\n",
        "  - The __del__ method in Python, often referred to as a \"destructor\" or \"finalizer,\" holds significance in the context of object lifecycle management and resource cleanup.\n",
        "\n",
        "  The primary purpose of __del__ is to provide a mechanism for an object to release or clean up external resources it might be holding when it is about to be garbage collected. This includes closing file handles, releasing network connections, or freeing up memory allocated through external libraries.\n",
        "\n",
        "22. What is the difference between @staticmethod and @classmethod in Python?\n",
        "\n",
        "  - Classmethon - The @classmethod decorator is a built-in function decorator that is an expression that gets evaluated after your function is defined. The result of that evaluation shadows your function definition. A class method receives the class as an implicit first argument, just like an instance method receives the instance\n",
        "\n",
        "     Staticmethod - A static method does not receive an implicit first argument. A static method is also a method that is bound to the class and not the object of the class. This method can't access or modify the class state. It is present in a class because it makes sense for the method to be present in class.\n",
        "\n",
        "     Class method vs Static Method\n",
        "\n",
        "     The difference between the Class method and the static method is:\n",
        "\n",
        "     A class method takes cls as the first parameter while a static method needs no specific parameters.\n",
        "     A class method can access or modify the class state while a static method can't access or modify it.\n",
        "     In general, static methods know nothing about the class state. They are utility-type methods that take some parameters and work upon those parameters. On the other hand class methods must have class as a parameter.\n",
        "     We use @classmethod decorator in python to create a class method and we use @staticmethod decorator to create a static method in python.\n",
        "\n",
        "\n",
        "23.  How does polymorphism work in Python with inheritance?\n",
        "\n",
        "  - Polymorphism in Python, when combined with inheritance, primarily manifests through method overriding. This allows subclasses to provide their own specific implementations of methods that are already defined in their parent (or base) class.\n",
        "\n",
        "      Inheritance:\n",
        "\n",
        "      A child class (subclass) inherits attributes and methods from a parent class (superclass). This establishes a \"is-a\" relationship, meaning a child class object \"is a\" type of parent class object\n",
        "\n",
        "24. What is method chaining in Python OOP?\n",
        "\n",
        "  - Method chaining in Python OOP refers to a programming style where multiple method calls are invoked sequentially on the same object in a single line of code. This is achieved by having each method in the chain return the object itself (self), allowing the next method to be called directly on the returned object.\n",
        "\n",
        "25. What is the purpose of the __call__ method in Python?\n",
        "\n",
        "  - Python has a set of built-in methods and __call__ is one of them. The __call__ method enables Python programmers to write classes where the instances behave like functions and can be called like a function. When this method is defined, calling an object (obj(arg1, arg2)) automatically triggers obj.__call__(arg1, arg2). This makes objects behave like functions, enabling more flexible and reusable code."
      ],
      "metadata": {
        "id": "I__SCq-c8PcT"
      }
    },
    {
      "cell_type": "markdown",
      "source": [],
      "metadata": {
        "id": "9V8YwrewLRYh"
      }
    },
    {
      "cell_type": "markdown",
      "source": [
        "                                     **Practical Questions**\n",
        "\n",
        "1. Create a parent class Animal with a method speak() that prints a generic message. Create a child class Dog\n",
        "that overrides the speak() method to print \"Bark!\"."
      ],
      "metadata": {
        "id": "PC6auxV6LPr6"
      }
    },
    {
      "cell_type": "code",
      "source": [
        "class Animal:\n",
        "    def speak_info(self):\n",
        "        print(\"Animal makes sound\")\n",
        "class Dog(Animal):\n",
        "    def speak_info_dog(self):\n",
        "        print(\"Dog Bark\")"
      ],
      "metadata": {
        "id": "XY9FQtU19ehg"
      },
      "execution_count": null,
      "outputs": []
    },
    {
      "cell_type": "code",
      "source": [
        "an1 = Animal()"
      ],
      "metadata": {
        "id": "shQVdPKw9jRC"
      },
      "execution_count": null,
      "outputs": []
    },
    {
      "cell_type": "code",
      "source": [
        "an1.speak_info()"
      ],
      "metadata": {
        "colab": {
          "base_uri": "https://localhost:8080/"
        },
        "id": "eGJMOg8x9mRA",
        "outputId": "d74a41a2-480f-457f-c8df-d0756fb626ad"
      },
      "execution_count": null,
      "outputs": [
        {
          "output_type": "stream",
          "name": "stdout",
          "text": [
            "Animal makes sound\n"
          ]
        }
      ]
    },
    {
      "cell_type": "code",
      "source": [
        "an2 = Dog()"
      ],
      "metadata": {
        "id": "TBZwUvsE9qO_"
      },
      "execution_count": null,
      "outputs": []
    },
    {
      "cell_type": "code",
      "source": [
        "an2.speak_info_dog()"
      ],
      "metadata": {
        "colab": {
          "base_uri": "https://localhost:8080/"
        },
        "id": "2xSSuv4u9syT",
        "outputId": "1d31f3e5-4759-46fa-edd6-aa5744247547"
      },
      "execution_count": null,
      "outputs": [
        {
          "output_type": "stream",
          "name": "stdout",
          "text": [
            "Dog Bark\n"
          ]
        }
      ]
    },
    {
      "cell_type": "code",
      "source": [
        "an2.speak_info()"
      ],
      "metadata": {
        "colab": {
          "base_uri": "https://localhost:8080/"
        },
        "id": "JH8gtgo19urS",
        "outputId": "3c98743c-c66e-4f1f-b010-64898ac6a8af"
      },
      "execution_count": null,
      "outputs": [
        {
          "output_type": "stream",
          "name": "stdout",
          "text": [
            "Animal makes sound\n"
          ]
        }
      ]
    },
    {
      "cell_type": "markdown",
      "source": [
        "2.  Write a program to create an abstract class Shape with a method area(). Derive classes Circle and Rectangle\n",
        "from it and implement the area() method in both."
      ],
      "metadata": {
        "id": "McLgswBiAgy0"
      }
    },
    {
      "cell_type": "code",
      "source": [
        "import abc\n",
        "class shape:\n",
        "    @abc.abstractmethod\n",
        "    def area(shape):\n",
        "        pass\n",
        "class Rectangle(shape):\n",
        "    def area_rect(self):\n",
        "        return \"Area of rectangle is length * breath\"\n",
        "class circle(shape):\n",
        "    def area_cir(self):\n",
        "        return \"area of circle is pi r**2\""
      ],
      "metadata": {
        "id": "sYTxf86oqMSJ"
      },
      "execution_count": null,
      "outputs": []
    },
    {
      "cell_type": "code",
      "source": [
        "cls = Rectangle()"
      ],
      "metadata": {
        "id": "VoApc7M-AeXS"
      },
      "execution_count": null,
      "outputs": []
    },
    {
      "cell_type": "code",
      "source": [
        "cls.area_rect()"
      ],
      "metadata": {
        "colab": {
          "base_uri": "https://localhost:8080/",
          "height": 36
        },
        "id": "kJKrrm9uqZJh",
        "outputId": "28c30be3-d794-4d17-d06f-8c9160e9e2bb"
      },
      "execution_count": null,
      "outputs": [
        {
          "output_type": "execute_result",
          "data": {
            "text/plain": [
              "'Area of rectangle is length * breath'"
            ],
            "application/vnd.google.colaboratory.intrinsic+json": {
              "type": "string"
            }
          },
          "metadata": {},
          "execution_count": 8
        }
      ]
    },
    {
      "cell_type": "code",
      "source": [
        "cls1 = circle()"
      ],
      "metadata": {
        "id": "dp5t2maVqbLs"
      },
      "execution_count": null,
      "outputs": []
    },
    {
      "cell_type": "code",
      "source": [
        "cls1.area_cir()"
      ],
      "metadata": {
        "colab": {
          "base_uri": "https://localhost:8080/",
          "height": 36
        },
        "id": "ikBKUAuVqfLt",
        "outputId": "a954f8ad-e534-485c-ad4c-c11dff13ce35"
      },
      "execution_count": null,
      "outputs": [
        {
          "output_type": "execute_result",
          "data": {
            "text/plain": [
              "'area of circle is pi r**2'"
            ],
            "application/vnd.google.colaboratory.intrinsic+json": {
              "type": "string"
            }
          },
          "metadata": {},
          "execution_count": 11
        }
      ]
    },
    {
      "cell_type": "markdown",
      "source": [
        "3.  Implement a multi-level inheritance scenario where a class Vehicle has an attribute type. Derive a class Car\n",
        "and further derive a class ElectricCar that adds a battery attribute."
      ],
      "metadata": {
        "id": "B6DHXydNqsPR"
      }
    },
    {
      "cell_type": "code",
      "source": [
        "class vehicle:\n",
        "    def vehicle_info(self):\n",
        "        print(\"Inside vehicle class\")\n",
        "class car(vehicle):\n",
        "    def sport_car(self):\n",
        "        print(\"Drive a sport car\")\n",
        "class Electric_car(car):\n",
        "    def future_car(self):\n",
        "        print(\"Electric car has a Batteries\")\n"
      ],
      "metadata": {
        "id": "MScfQL2Wqhdu"
      },
      "execution_count": null,
      "outputs": []
    },
    {
      "cell_type": "code",
      "source": [
        "class1 = car()"
      ],
      "metadata": {
        "id": "4VSbepDQw8jV"
      },
      "execution_count": null,
      "outputs": []
    },
    {
      "cell_type": "code",
      "source": [
        "class1.sport_car()"
      ],
      "metadata": {
        "colab": {
          "base_uri": "https://localhost:8080/"
        },
        "id": "V9SXU8I7xEaV",
        "outputId": "6c4e85a4-2825-40df-b06a-1e3b92e7324b"
      },
      "execution_count": null,
      "outputs": [
        {
          "output_type": "stream",
          "name": "stdout",
          "text": [
            "Drive a sport car\n"
          ]
        }
      ]
    },
    {
      "cell_type": "code",
      "source": [
        "class2 = Electric_car()"
      ],
      "metadata": {
        "id": "QI7FudTMxJFg"
      },
      "execution_count": null,
      "outputs": []
    },
    {
      "cell_type": "code",
      "source": [
        "class2.future_car()"
      ],
      "metadata": {
        "colab": {
          "base_uri": "https://localhost:8080/"
        },
        "id": "j9rvcgrExN_a",
        "outputId": "1d48a68e-d216-49d6-f5e5-ce4c982b4a5d"
      },
      "execution_count": null,
      "outputs": [
        {
          "output_type": "stream",
          "name": "stdout",
          "text": [
            "Electric car has a Batteries\n"
          ]
        }
      ]
    },
    {
      "cell_type": "markdown",
      "source": [
        "4.  Demonstrate polymorphism by creating a base class Bird with a method fly(). Create two derived classes\n",
        "Sparrow and Penguin that override the fly() method."
      ],
      "metadata": {
        "id": "uF0j_mlMxjru"
      }
    },
    {
      "cell_type": "code",
      "source": [
        "class Bird:\n",
        "    def fly(self):\n",
        "        print(\"Bird is flying\")\n",
        "class sparrow(Bird):\n",
        "    def fly_sparrow(self):\n",
        "        print(\"sparrow is a Bird\")\n",
        "class penguin(sparrow):\n",
        "    def fly_penguin(self):\n",
        "        print(\"Penguin is a seabird\")"
      ],
      "metadata": {
        "id": "wH_EUG7_CaNh"
      },
      "execution_count": null,
      "outputs": []
    },
    {
      "cell_type": "code",
      "source": [
        "cl = Bird()"
      ],
      "metadata": {
        "id": "J85yba54xvBT"
      },
      "execution_count": null,
      "outputs": []
    },
    {
      "cell_type": "code",
      "source": [
        "cl.fly()"
      ],
      "metadata": {
        "id": "iQLq7ozNxQUa",
        "colab": {
          "base_uri": "https://localhost:8080/"
        },
        "outputId": "bcff293e-1173-465f-d4f9-a079352ddff3"
      },
      "execution_count": null,
      "outputs": [
        {
          "output_type": "stream",
          "name": "stdout",
          "text": [
            "Bird is flying\n"
          ]
        }
      ]
    },
    {
      "cell_type": "code",
      "source": [
        "cls1 = sparrow()"
      ],
      "metadata": {
        "id": "N1joR0vLH0xK"
      },
      "execution_count": null,
      "outputs": []
    },
    {
      "cell_type": "code",
      "source": [
        "cls1.fly_sparrow()"
      ],
      "metadata": {
        "colab": {
          "base_uri": "https://localhost:8080/"
        },
        "id": "9vFpuAv5H3Mh",
        "outputId": "1f770f21-c4bb-4b6e-cf4b-aa7fee0f889a"
      },
      "execution_count": null,
      "outputs": [
        {
          "output_type": "stream",
          "name": "stdout",
          "text": [
            "sparrow is a Bird\n"
          ]
        }
      ]
    },
    {
      "cell_type": "code",
      "source": [
        "cls2 = penguin()"
      ],
      "metadata": {
        "id": "iiofDMikH48C"
      },
      "execution_count": null,
      "outputs": []
    },
    {
      "cell_type": "code",
      "source": [
        "cls2.fly_penguin()"
      ],
      "metadata": {
        "colab": {
          "base_uri": "https://localhost:8080/"
        },
        "id": "cu9xhAjbH96w",
        "outputId": "f4bfa719-7f80-44fb-b98c-9e0d433d9669"
      },
      "execution_count": null,
      "outputs": [
        {
          "output_type": "stream",
          "name": "stdout",
          "text": [
            "Penguin is a seabird\n"
          ]
        }
      ]
    },
    {
      "cell_type": "markdown",
      "source": [
        "5.  Write a program to demonstrate encapsulation by creating a class BankAccount with private attributes\n",
        "balance and methods to deposit, withdraw, and check balance."
      ],
      "metadata": {
        "id": "BAzSjxgeIGx0"
      }
    },
    {
      "cell_type": "code",
      "source": [
        "class Bank:\n",
        "    def __init__(self, balance):\n",
        "        self.__balance = balance\n",
        "\n",
        "    def deposit(self, amount):\n",
        "        self.__balance = self.__balance + amount\n",
        "\n",
        "    def withdraw(self, amount):\n",
        "        if self.__balance >= amount:\n",
        "            self.__balance = self.__balance - amount\n",
        "            return True\n",
        "        else:\n",
        "            return False\n",
        "\n",
        "    def get_balance(self):\n",
        "        return self.__balance"
      ],
      "metadata": {
        "id": "Qwc7Zi5GIAA3"
      },
      "execution_count": null,
      "outputs": []
    },
    {
      "cell_type": "code",
      "source": [
        "acc1 = Bank(1000)"
      ],
      "metadata": {
        "id": "FjxtwRG6cduP"
      },
      "execution_count": null,
      "outputs": []
    },
    {
      "cell_type": "code",
      "source": [
        "acc1.get_balance()"
      ],
      "metadata": {
        "colab": {
          "base_uri": "https://localhost:8080/"
        },
        "id": "CC7RjSwicpfr",
        "outputId": "d6474cdb-08de-4363-d215-c4ec1931672c"
      },
      "execution_count": null,
      "outputs": [
        {
          "output_type": "execute_result",
          "data": {
            "text/plain": [
              "1000"
            ]
          },
          "metadata": {},
          "execution_count": 11
        }
      ]
    },
    {
      "cell_type": "code",
      "source": [
        "acc1.deposit(500)"
      ],
      "metadata": {
        "id": "9MZmW85vc3Q3"
      },
      "execution_count": null,
      "outputs": []
    },
    {
      "cell_type": "code",
      "source": [
        "acc1.get_balance()"
      ],
      "metadata": {
        "colab": {
          "base_uri": "https://localhost:8080/"
        },
        "id": "BEeXkq45c-Vx",
        "outputId": "4a0ef88a-c50c-4a84-f13a-afb7ca0db476"
      },
      "execution_count": null,
      "outputs": [
        {
          "output_type": "execute_result",
          "data": {
            "text/plain": [
              "1500"
            ]
          },
          "metadata": {},
          "execution_count": 13
        }
      ]
    },
    {
      "cell_type": "code",
      "source": [
        "acc1.withdraw(200)"
      ],
      "metadata": {
        "colab": {
          "base_uri": "https://localhost:8080/"
        },
        "id": "YmugRUz-dA2a",
        "outputId": "84563d5e-7d3c-46a8-f4fb-bfbeb2ca2017"
      },
      "execution_count": null,
      "outputs": [
        {
          "output_type": "execute_result",
          "data": {
            "text/plain": [
              "True"
            ]
          },
          "metadata": {},
          "execution_count": 14
        }
      ]
    },
    {
      "cell_type": "code",
      "source": [
        "acc1.get_balance()"
      ],
      "metadata": {
        "colab": {
          "base_uri": "https://localhost:8080/"
        },
        "id": "1M6_CdVXdDdq",
        "outputId": "5de7af35-fec4-4aa1-f9e4-a0357cf3c56d"
      },
      "execution_count": null,
      "outputs": [
        {
          "output_type": "execute_result",
          "data": {
            "text/plain": [
              "1300"
            ]
          },
          "metadata": {},
          "execution_count": 15
        }
      ]
    },
    {
      "cell_type": "code",
      "source": [
        "acc1.withdraw(1500)"
      ],
      "metadata": {
        "colab": {
          "base_uri": "https://localhost:8080/"
        },
        "id": "Z8jLkANUdGBm",
        "outputId": "ad1023cf-8f0f-45b7-9c64-5cdd5b36facd"
      },
      "execution_count": null,
      "outputs": [
        {
          "output_type": "execute_result",
          "data": {
            "text/plain": [
              "False"
            ]
          },
          "metadata": {},
          "execution_count": 16
        }
      ]
    },
    {
      "cell_type": "markdown",
      "source": [
        "6.  Demonstrate runtime polymorphism using a method play() in a base class Instrument. Derive classes Guitar\n",
        "and Piano that implement their own version of play().\n",
        "\n",
        "\n"
      ],
      "metadata": {
        "id": "G3ozPkfyd0Pb"
      }
    },
    {
      "cell_type": "code",
      "source": [
        "class Instrument:\n",
        "    def base_class(self):\n",
        "        print(\"without Instrument music will not make\")\n",
        "class Guitar(Instrument):\n",
        "    def play_Guitar(self):\n",
        "        print(\"Guitar is a plucked string instrument\")\n",
        "class Piano(Guitar):\n",
        "    def play_piano(self):\n",
        "        print(\"The piano is a keyboard instrument that produces sound by striking strings with hammers\")\n",
        ""
      ],
      "metadata": {
        "id": "i3uWNfsSdKUD"
      },
      "execution_count": 1,
      "outputs": []
    },
    {
      "cell_type": "code",
      "source": [
        "play = Instrument()"
      ],
      "metadata": {
        "id": "Zwm2weDBOjQj"
      },
      "execution_count": 2,
      "outputs": []
    },
    {
      "cell_type": "code",
      "source": [
        "play.base_class()"
      ],
      "metadata": {
        "colab": {
          "base_uri": "https://localhost:8080/"
        },
        "id": "zt7I7m3bOnIj",
        "outputId": "baf3bdb4-34d1-4bb6-e336-2ee1d2e16b47"
      },
      "execution_count": 3,
      "outputs": [
        {
          "output_type": "stream",
          "name": "stdout",
          "text": [
            "without Instrument music will not make\n"
          ]
        }
      ]
    },
    {
      "cell_type": "code",
      "source": [
        "play1 = Guitar()"
      ],
      "metadata": {
        "id": "lTZOVXkBOogz"
      },
      "execution_count": 4,
      "outputs": []
    },
    {
      "cell_type": "code",
      "source": [
        "play1.play_Guitar()"
      ],
      "metadata": {
        "colab": {
          "base_uri": "https://localhost:8080/"
        },
        "id": "jxq2mctoOuzN",
        "outputId": "cdb13674-e3ee-4270-9645-fdaae0ea4780"
      },
      "execution_count": 5,
      "outputs": [
        {
          "output_type": "stream",
          "name": "stdout",
          "text": [
            "Guitar is a plucked string instrument\n"
          ]
        }
      ]
    },
    {
      "cell_type": "code",
      "source": [
        "play2 = Piano()"
      ],
      "metadata": {
        "id": "x6Tg864IOy9w"
      },
      "execution_count": 6,
      "outputs": []
    },
    {
      "cell_type": "code",
      "source": [
        "play2.play_piano()"
      ],
      "metadata": {
        "colab": {
          "base_uri": "https://localhost:8080/"
        },
        "id": "0YMo6TF0O2R1",
        "outputId": "216b0060-e933-4247-b7ef-9012e07223d8"
      },
      "execution_count": 7,
      "outputs": [
        {
          "output_type": "stream",
          "name": "stdout",
          "text": [
            "The piano is a keyboard instrument that produces sound by striking strings with hammers\n"
          ]
        }
      ]
    },
    {
      "cell_type": "markdown",
      "source": [
        "7. Create a class MathOperations with a class method add_numbers() to add two numbers and a static\n",
        "method subtract_numbers() to subtract two numbers."
      ],
      "metadata": {
        "id": "YfHm6Ur5PxA2"
      }
    },
    {
      "cell_type": "code",
      "source": [
        "class MathOpreation:\n",
        "\n",
        "    def add(x, y):\n",
        "        return x + y\n",
        "\n",
        "    @staticmethod\n",
        "    def subtract(x, y):\n",
        "        return x - y\n",
        ""
      ],
      "metadata": {
        "id": "DfF3DATfO7KH"
      },
      "execution_count": 8,
      "outputs": []
    },
    {
      "cell_type": "code",
      "source": [
        "MathOpreation.add(18,19)"
      ],
      "metadata": {
        "colab": {
          "base_uri": "https://localhost:8080/"
        },
        "id": "QmKW1M7Lgp-G",
        "outputId": "cba429e5-4cb9-46dd-fd78-8964b382d25a"
      },
      "execution_count": 9,
      "outputs": [
        {
          "output_type": "execute_result",
          "data": {
            "text/plain": [
              "37"
            ]
          },
          "metadata": {},
          "execution_count": 9
        }
      ]
    },
    {
      "cell_type": "code",
      "source": [
        "MathOpreation.subtract(19,7)"
      ],
      "metadata": {
        "colab": {
          "base_uri": "https://localhost:8080/"
        },
        "id": "MTSzGW3pgwQN",
        "outputId": "92003285-43bc-425f-f0f4-f1c22a03a1b2"
      },
      "execution_count": 10,
      "outputs": [
        {
          "output_type": "execute_result",
          "data": {
            "text/plain": [
              "12"
            ]
          },
          "metadata": {},
          "execution_count": 10
        }
      ]
    },
    {
      "cell_type": "markdown",
      "source": [
        "8.  Implement a class Person with a class method to count the total number of persons created."
      ],
      "metadata": {
        "id": "gJi-jTMmg-Ye"
      }
    },
    {
      "cell_type": "code",
      "source": [
        "class person:\n",
        "    total_persons = 0\n",
        "    def __init__(self,name):\n",
        "        self.name = name\n",
        "        person.total_persons = person.total_persons + 1\n",
        "\n",
        "    @classmethod\n",
        "    def get_total_persons(cls):\n",
        "        return cls.total_persons"
      ],
      "metadata": {
        "id": "8koOedBUg44v"
      },
      "execution_count": 11,
      "outputs": []
    },
    {
      "cell_type": "code",
      "source": [
        "person.total_persons"
      ],
      "metadata": {
        "colab": {
          "base_uri": "https://localhost:8080/"
        },
        "id": "Mt9thbN5jEfi",
        "outputId": "c50bbf02-1693-41a0-f808-9262f92bf0b9"
      },
      "execution_count": 12,
      "outputs": [
        {
          "output_type": "execute_result",
          "data": {
            "text/plain": [
              "0"
            ]
          },
          "metadata": {},
          "execution_count": 12
        }
      ]
    },
    {
      "cell_type": "code",
      "source": [
        "per1 = person(\"Ajay\")\n",
        "per2 = person(\"Vineet\")\n",
        "per3 = person(\"sameer\")"
      ],
      "metadata": {
        "id": "Ar8QKxuWjGvb"
      },
      "execution_count": 13,
      "outputs": []
    },
    {
      "cell_type": "code",
      "source": [
        "person.total_persons"
      ],
      "metadata": {
        "colab": {
          "base_uri": "https://localhost:8080/"
        },
        "id": "P45j6J_AjI5Z",
        "outputId": "055aaef0-67c9-4144-944e-34a618ee0930"
      },
      "execution_count": 14,
      "outputs": [
        {
          "output_type": "execute_result",
          "data": {
            "text/plain": [
              "3"
            ]
          },
          "metadata": {},
          "execution_count": 14
        }
      ]
    },
    {
      "cell_type": "code",
      "source": [
        "person.get_total_persons()\n"
      ],
      "metadata": {
        "colab": {
          "base_uri": "https://localhost:8080/"
        },
        "id": "CUgojeL7jMYP",
        "outputId": "6250d2fb-a371-4b63-e5e3-e99deaf830b4"
      },
      "execution_count": 15,
      "outputs": [
        {
          "output_type": "execute_result",
          "data": {
            "text/plain": [
              "3"
            ]
          },
          "metadata": {},
          "execution_count": 15
        }
      ]
    },
    {
      "cell_type": "markdown",
      "source": [
        "10. Demonstrate operator overloading by creating a class Vector and overriding the add method to add two\n",
        "vectors."
      ],
      "metadata": {
        "id": "AbIQD-1mjT55"
      }
    },
    {
      "cell_type": "code",
      "source": [
        "class Vector:\n",
        "    def __init__(self, x, y):\n",
        "\n",
        "        self.x = x\n",
        "        self.y = y\n",
        "    def add(x, y):\n",
        "      return (x + y)\n",
        ""
      ],
      "metadata": {
        "id": "A41nno_rp73p"
      },
      "execution_count": 38,
      "outputs": []
    },
    {
      "cell_type": "code",
      "source": [
        "vector1 = Vector(3, 6)\n",
        "vector2 = Vector(4, 7)"
      ],
      "metadata": {
        "id": "u3tM14qdtGFz"
      },
      "execution_count": 46,
      "outputs": []
    },
    {
      "cell_type": "code",
      "source": [
        "vector1.x"
      ],
      "metadata": {
        "colab": {
          "base_uri": "https://localhost:8080/"
        },
        "id": "cynxMEtJuDUS",
        "outputId": "e09bb6f2-4d43-42af-a2c9-1d5bf6a13b11"
      },
      "execution_count": 47,
      "outputs": [
        {
          "output_type": "execute_result",
          "data": {
            "text/plain": [
              "3"
            ]
          },
          "metadata": {},
          "execution_count": 47
        }
      ]
    },
    {
      "cell_type": "code",
      "source": [
        "vector1.y"
      ],
      "metadata": {
        "colab": {
          "base_uri": "https://localhost:8080/"
        },
        "id": "C25yn7POuF9U",
        "outputId": "08424dd2-5580-43db-ce48-7e7a640b5d0b"
      },
      "execution_count": 48,
      "outputs": [
        {
          "output_type": "execute_result",
          "data": {
            "text/plain": [
              "6"
            ]
          },
          "metadata": {},
          "execution_count": 48
        }
      ]
    },
    {
      "cell_type": "code",
      "source": [
        "vector2.x"
      ],
      "metadata": {
        "colab": {
          "base_uri": "https://localhost:8080/"
        },
        "id": "cFTLPBnDuHxA",
        "outputId": "02a48ab1-3366-43a0-8ef9-36ee04a45c93"
      },
      "execution_count": 49,
      "outputs": [
        {
          "output_type": "execute_result",
          "data": {
            "text/plain": [
              "4"
            ]
          },
          "metadata": {},
          "execution_count": 49
        }
      ]
    },
    {
      "cell_type": "code",
      "source": [
        "vector2.y"
      ],
      "metadata": {
        "colab": {
          "base_uri": "https://localhost:8080/"
        },
        "id": "pmQz9ryzuJkI",
        "outputId": "815edd93-687c-49dc-a767-9ef5839f4e2b"
      },
      "execution_count": 50,
      "outputs": [
        {
          "output_type": "execute_result",
          "data": {
            "text/plain": [
              "7"
            ]
          },
          "metadata": {},
          "execution_count": 50
        }
      ]
    },
    {
      "cell_type": "markdown",
      "source": [
        "11. Create a class Person with attributes name and age. Add a method greet() that prints \"Hello, my name is\n",
        "{name} and I am {age} years old.\""
      ],
      "metadata": {
        "id": "cvR27eCfu5MT"
      }
    },
    {
      "cell_type": "code",
      "source": [
        "class person:\n",
        "    def __init__(self, Name, age):\n",
        "        self.Name = Name\n",
        "        self.age = age\n",
        "    def set__greet(self, Name):\n",
        "        return (\"Hello, my name is\", Name)\n",
        "    def get_greet(self, age):\n",
        "        return (\"I am 23 years old\")"
      ],
      "metadata": {
        "id": "6PwXKwazu4bR"
      },
      "execution_count": 51,
      "outputs": []
    },
    {
      "cell_type": "code",
      "source": [
        "cls = person(\"vineet\", 23)"
      ],
      "metadata": {
        "id": "I1gc_yKnuLLe"
      },
      "execution_count": 52,
      "outputs": []
    },
    {
      "cell_type": "code",
      "source": [
        "cls.set__greet(\"vineet\")"
      ],
      "metadata": {
        "colab": {
          "base_uri": "https://localhost:8080/"
        },
        "id": "Erp-JrzB7N6p",
        "outputId": "dcaca646-adb8-4068-ecfb-61635f40146b"
      },
      "execution_count": 54,
      "outputs": [
        {
          "output_type": "execute_result",
          "data": {
            "text/plain": [
              "('Hello, my name is', 'vineet')"
            ]
          },
          "metadata": {},
          "execution_count": 54
        }
      ]
    },
    {
      "cell_type": "code",
      "source": [
        "cls.get_greet(23)"
      ],
      "metadata": {
        "colab": {
          "base_uri": "https://localhost:8080/",
          "height": 36
        },
        "id": "hyvsjSWt7QP-",
        "outputId": "65d77091-207d-41da-f985-857485da9280"
      },
      "execution_count": 55,
      "outputs": [
        {
          "output_type": "execute_result",
          "data": {
            "text/plain": [
              "'I am 23 years old'"
            ],
            "application/vnd.google.colaboratory.intrinsic+json": {
              "type": "string"
            }
          },
          "metadata": {},
          "execution_count": 55
        }
      ]
    },
    {
      "cell_type": "markdown",
      "source": [
        "12.  Implement a class Student with attributes name and grades. Create a method average_grade() to compute\n",
        "the average of the grades."
      ],
      "metadata": {
        "id": "XpofPuGS7ezy"
      }
    },
    {
      "cell_type": "code",
      "source": [
        "class Student:\n",
        "    def __init__(self, name, grades):\n",
        "\n",
        "        self.name = name\n",
        "        self.grades = grades\n",
        "\n",
        "    def average_grade(self):\n",
        "\n",
        "        if not self.grades:\n",
        "            return 0\n",
        "        return sum(self.grades) / len(self.grades)\n"
      ],
      "metadata": {
        "id": "qxvQbG5B7auB"
      },
      "execution_count": 56,
      "outputs": []
    },
    {
      "cell_type": "code",
      "source": [
        "student1 = Student(\"Alice\", [85, 90, 78, 92])\n",
        "print(f\"{student1.name}'s average grade: {student1.average_grade()}\")"
      ],
      "metadata": {
        "colab": {
          "base_uri": "https://localhost:8080/"
        },
        "id": "oYYS0McZ_WWK",
        "outputId": "bb5bb158-bf1b-48d0-f651-3505f475579c"
      },
      "execution_count": 57,
      "outputs": [
        {
          "output_type": "stream",
          "name": "stdout",
          "text": [
            "Alice's average grade: 86.25\n"
          ]
        }
      ]
    },
    {
      "cell_type": "code",
      "source": [
        "class Rectangle:\n",
        "    def __init__(self):\n",
        "        self.length = 0\n",
        "        self.width = 0\n",
        "\n",
        "    def set_dimensions(self, length, width):\n",
        "\n",
        "        if length >= 0 and width >= 0:\n",
        "            self.length = length\n",
        "            self.width = width\n",
        "        else:\n",
        "            print(\"Dimensions cannot be negative. Setting to default (0,0).\")\n",
        "            self.length = 0\n",
        "            self.width = 0\n",
        "\n",
        "    def area(self):\n",
        "\n",
        "        return self.length * self.width"
      ],
      "metadata": {
        "id": "3UqPRHd6_YlF"
      },
      "execution_count": 59,
      "outputs": []
    },
    {
      "cell_type": "code",
      "source": [
        "my_rectangle = Rectangle()"
      ],
      "metadata": {
        "id": "P2WUGFOiCIuG"
      },
      "execution_count": 60,
      "outputs": []
    },
    {
      "cell_type": "code",
      "source": [
        "my_rectangle.set_dimensions(7, 156)"
      ],
      "metadata": {
        "id": "6sIkz1OuCUEu"
      },
      "execution_count": 61,
      "outputs": []
    },
    {
      "cell_type": "code",
      "source": [
        "print(f\"The area of the rectangle is: {my_rectangle.area()}\")"
      ],
      "metadata": {
        "colab": {
          "base_uri": "https://localhost:8080/"
        },
        "id": "nkyTTh0HCWYN",
        "outputId": "3564a5dc-86ec-4c45-a67a-2eb56e8d1384"
      },
      "execution_count": 62,
      "outputs": [
        {
          "output_type": "stream",
          "name": "stdout",
          "text": [
            "The area of the rectangle is: 1092\n"
          ]
        }
      ]
    },
    {
      "cell_type": "markdown",
      "source": [
        "14.  Create a class Employee with a method calculate_salary() that computes the salary based on hours worked\n",
        "and hourly rate. Create a derived class Manager that adds a bonus to the salary"
      ],
      "metadata": {
        "id": "fwEgmPuhErtd"
      }
    },
    {
      "cell_type": "code",
      "source": [
        "class Employee:\n",
        "    def __init__(self, name, hourly_rate):\n",
        "\n",
        "        self.name = name\n",
        "        self.hourly_rate = hourly_rate\n",
        "\n",
        "    def calculate_salary(self, hours_worked):\n",
        "\n",
        "        return hours_worked * self.hourly_rate\n",
        "\n",
        "class Manager(Employee):\n",
        "    def __init__(self, name, hourly_rate, bonus):\n",
        "\n",
        "        super().__init__(name, hourly_rate)\n",
        "        self.bonus = bonus\n",
        "\n",
        "    def calculate_salary(self, hours_worked):\n",
        "\n",
        "        base_salary = super().calculate_salary(hours_worked)\n",
        "        return base_salary + self.bonus\n",
        "\n",
        "if __name__ == \"__main__\":\n",
        "    employee1 = Employee(\"Alice Smith\", 20.0)\n",
        "    manager1 = Manager(\"Bob Johnson\", 25.0, 500.0)\n",
        "\n",
        "    print(f\"{employee1.name}'s salary for 40 hours: ${employee1.calculate_salary(40)}\")\n",
        "    print(f\"{manager1.name}'s salary for 40 hours: ${manager1.calculate_salary(40)}\")"
      ],
      "metadata": {
        "colab": {
          "base_uri": "https://localhost:8080/"
        },
        "id": "f0kWcIAmCaj-",
        "outputId": "db1a40aa-b1ce-424b-93cb-1ce22abefd10"
      },
      "execution_count": 64,
      "outputs": [
        {
          "output_type": "stream",
          "name": "stdout",
          "text": [
            "Alice Smith's salary for 40 hours: $800.0\n",
            "Bob Johnson's salary for 40 hours: $1500.0\n"
          ]
        }
      ]
    },
    {
      "cell_type": "markdown",
      "source": [
        "15. Create a class Product with attributes name, price, and quantity. Implement a method total_price() that\n",
        "calculates the total price of the product."
      ],
      "metadata": {
        "id": "ouj916kFGaVi"
      }
    },
    {
      "cell_type": "code",
      "source": [
        "class product:\n",
        "    def __init__(self, name, price, quantity):\n",
        "        self.name = name\n",
        "        self.price = price\n",
        "        self.quantity = quantity\n",
        "\n",
        "    def total_price(self):\n",
        "\n",
        "        return self.price * self.quantity"
      ],
      "metadata": {
        "id": "OX2e-3wAGWil"
      },
      "execution_count": 65,
      "outputs": []
    },
    {
      "cell_type": "code",
      "source": [
        "laptop = product(\"laptop\", 500, 2)"
      ],
      "metadata": {
        "id": "UCILEjXRKVOT"
      },
      "execution_count": 66,
      "outputs": []
    },
    {
      "cell_type": "code",
      "source": [
        "print(f\"The total price of {laptop.name} is: Rs.{laptop.total_price():.2f}\")"
      ],
      "metadata": {
        "colab": {
          "base_uri": "https://localhost:8080/"
        },
        "id": "X_X1WUc0KXJY",
        "outputId": "d824fac8-a6f2-4d32-c2a2-dcd74d18ba37"
      },
      "execution_count": 67,
      "outputs": [
        {
          "output_type": "stream",
          "name": "stdout",
          "text": [
            "The total price of laptop is: Rs.1000.00\n"
          ]
        }
      ]
    },
    {
      "cell_type": "markdown",
      "source": [
        "16.  Create a class Animal with an abstract method sound(). Create two derived classes Cow and Sheep that\n",
        "implement the sound() method."
      ],
      "metadata": {
        "id": "1xP24sp_Kh-2"
      }
    },
    {
      "cell_type": "code",
      "source": [
        "import abc\n",
        "class Animal:\n",
        "    @abc.abstractmethod\n",
        "    def sound(self):\n",
        "        pass\n",
        "\n",
        "class Cow(Animal):\n",
        "    def sound_cow(self):\n",
        "        return \"MOOO\"\n",
        "\n",
        "class Sheep(Cow):\n",
        "    def sound_sheep(self):\n",
        "        return \"BAAAAA\""
      ],
      "metadata": {
        "id": "s5MlYgS_MWvh"
      },
      "execution_count": 69,
      "outputs": []
    },
    {
      "cell_type": "code",
      "source": [
        "co = Cow()\n"
      ],
      "metadata": {
        "id": "Bb7z8KftMdDY"
      },
      "execution_count": 70,
      "outputs": []
    },
    {
      "cell_type": "code",
      "source": [
        "co.sound_cow()"
      ],
      "metadata": {
        "colab": {
          "base_uri": "https://localhost:8080/",
          "height": 36
        },
        "id": "vMMZrBk1MhvS",
        "outputId": "b5081648-30dd-4ba7-c4d4-a3fc9dcb65b3"
      },
      "execution_count": 71,
      "outputs": [
        {
          "output_type": "execute_result",
          "data": {
            "text/plain": [
              "'MOOO'"
            ],
            "application/vnd.google.colaboratory.intrinsic+json": {
              "type": "string"
            }
          },
          "metadata": {},
          "execution_count": 71
        }
      ]
    },
    {
      "cell_type": "code",
      "source": [
        "sheep = Sheep()"
      ],
      "metadata": {
        "id": "t6rnv2LNMj8U"
      },
      "execution_count": 74,
      "outputs": []
    },
    {
      "cell_type": "code",
      "source": [
        "sheep.sound_sheep()"
      ],
      "metadata": {
        "colab": {
          "base_uri": "https://localhost:8080/",
          "height": 36
        },
        "id": "rrq5dAaVModE",
        "outputId": "539dcd4d-349f-47b6-d5d6-08723f431358"
      },
      "execution_count": 75,
      "outputs": [
        {
          "output_type": "execute_result",
          "data": {
            "text/plain": [
              "'BAAAAA'"
            ],
            "application/vnd.google.colaboratory.intrinsic+json": {
              "type": "string"
            }
          },
          "metadata": {},
          "execution_count": 75
        }
      ]
    },
    {
      "cell_type": "markdown",
      "source": [
        "17.  Create a class Book with attributes title, author, and year_published. Add a method get_book_info() that\n",
        "returns a formatted string with the book's details."
      ],
      "metadata": {
        "id": "edjp6goSM5o5"
      }
    },
    {
      "cell_type": "code",
      "source": [
        "class Book:\n",
        "    def __init__(self, title, author , year_published):\n",
        "        self.title = title\n",
        "        self. author = author\n",
        "        self.year_published = year_published\n",
        "\n",
        "    def get_book_info_title(self):\n",
        "        print(self.title, )\n",
        "\n",
        "    def get_book_info_author(self):\n",
        "        print(self.author,)\n",
        "\n",
        "    def get_book_info_year_publisher(self):\n",
        "        print(self.year_published, )\n",
        ""
      ],
      "metadata": {
        "id": "O-AmJgD4M1Mr"
      },
      "execution_count": 76,
      "outputs": []
    },
    {
      "cell_type": "code",
      "source": [
        "book = Book(\"Harry Potter\", \"J.K. Rowling\" , \"The first Harry Potter book, Harry Potter and the Philosopher's Stone, was published in 1997\")"
      ],
      "metadata": {
        "id": "flqXEZ7ZQL_0"
      },
      "execution_count": 77,
      "outputs": []
    },
    {
      "cell_type": "code",
      "source": [
        "book.get_book_info_title()"
      ],
      "metadata": {
        "colab": {
          "base_uri": "https://localhost:8080/"
        },
        "id": "O_G1DOADQPCL",
        "outputId": "57dd9071-df90-4312-dd07-bca50b534c15"
      },
      "execution_count": 78,
      "outputs": [
        {
          "output_type": "stream",
          "name": "stdout",
          "text": [
            "Harry Potter\n"
          ]
        }
      ]
    },
    {
      "cell_type": "code",
      "source": [
        "book.get_book_info_author()"
      ],
      "metadata": {
        "colab": {
          "base_uri": "https://localhost:8080/"
        },
        "id": "vV4_5uW1QR6U",
        "outputId": "ca973117-5555-4035-f23b-1af6ac21c415"
      },
      "execution_count": 79,
      "outputs": [
        {
          "output_type": "stream",
          "name": "stdout",
          "text": [
            "J.K. Rowling\n"
          ]
        }
      ]
    },
    {
      "cell_type": "code",
      "source": [
        "book.get_book_info_year_publisher()"
      ],
      "metadata": {
        "colab": {
          "base_uri": "https://localhost:8080/"
        },
        "id": "lLXi65dNQVpt",
        "outputId": "3fc34bbb-e243-4471-a937-0788bc43ff76"
      },
      "execution_count": 80,
      "outputs": [
        {
          "output_type": "stream",
          "name": "stdout",
          "text": [
            "The first Harry Potter book, Harry Potter and the Philosopher's Stone, was published in 1997\n"
          ]
        }
      ]
    },
    {
      "cell_type": "markdown",
      "source": [
        "18.  Create a class House with attributes address and price. Create a derived class Mansion that adds an\n",
        "attribute number_of_rooms."
      ],
      "metadata": {
        "id": "Cx23irDXQkAV"
      }
    },
    {
      "cell_type": "code",
      "source": [
        "class House:\n",
        "\n",
        "    def __init__(self, address, price):\n",
        "\n",
        "        self.address = address\n",
        "        self.price = price\n",
        "\n",
        "    def get_address(self):\n",
        "        print(self.address)\n",
        "\n",
        "    def get_price(self):\n",
        "        print(self.price)\n",
        "\n",
        "class Mansion:\n",
        "    def Number_of_rooms(self):\n",
        "        print(\"100 rooms in this Hotel\")"
      ],
      "metadata": {
        "id": "gFVwtDaaQYVH"
      },
      "execution_count": 81,
      "outputs": []
    },
    {
      "cell_type": "code",
      "source": [
        "obj = House(\"Gwalior\", 2000)"
      ],
      "metadata": {
        "id": "3hSAak-STND2"
      },
      "execution_count": 82,
      "outputs": []
    },
    {
      "cell_type": "code",
      "source": [
        "obj.get_address()"
      ],
      "metadata": {
        "colab": {
          "base_uri": "https://localhost:8080/"
        },
        "id": "KDaf8IPLTSAD",
        "outputId": "ba0cde09-6ee3-41c0-ff91-55868053eda5"
      },
      "execution_count": 83,
      "outputs": [
        {
          "output_type": "stream",
          "name": "stdout",
          "text": [
            "Gwalior\n"
          ]
        }
      ]
    },
    {
      "cell_type": "code",
      "source": [
        "obj.get_price()"
      ],
      "metadata": {
        "colab": {
          "base_uri": "https://localhost:8080/"
        },
        "id": "DOtIQK_ATWJP",
        "outputId": "a2865c38-b54d-4fb1-9fdb-145a9c676557"
      },
      "execution_count": 84,
      "outputs": [
        {
          "output_type": "stream",
          "name": "stdout",
          "text": [
            "2000\n"
          ]
        }
      ]
    },
    {
      "cell_type": "code",
      "source": [
        "obj2 = Mansion()"
      ],
      "metadata": {
        "id": "Dk_ciTqoTYOB"
      },
      "execution_count": 85,
      "outputs": []
    },
    {
      "cell_type": "code",
      "source": [
        "obj2.Number_of_rooms()"
      ],
      "metadata": {
        "colab": {
          "base_uri": "https://localhost:8080/"
        },
        "id": "HqGtAe7nTbcM",
        "outputId": "dc4154f4-e285-475e-eef4-726cd655a2b6"
      },
      "execution_count": 86,
      "outputs": [
        {
          "output_type": "stream",
          "name": "stdout",
          "text": [
            "100 rooms in this Hotel\n"
          ]
        }
      ]
    },
    {
      "cell_type": "code",
      "source": [],
      "metadata": {
        "id": "kBuJubLpTeo3"
      },
      "execution_count": 86,
      "outputs": []
    }
  ]
}